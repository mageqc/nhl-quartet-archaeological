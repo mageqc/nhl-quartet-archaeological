{
 "cells": [
  {
   "cell_type": "markdown",
   "id": "88559683",
   "metadata": {},
   "source": [
    "# 🏒 Analyseur de Paris LNH 2025-26 - Mise-o-jeu+\n",
    "\n",
    "Système d'analyse avancé pour optimiser les paris sur la LNH via Mise-o-jeu+ (Loto-Québec).\n",
    "\n",
    "## 🎯 Objectifs\n",
    "- Identifier les meilleures **value bets** parmi les cotes actuelles\n",
    "- Maximiser le rendement avec une approche méthodique\n",
    "- Équilibrer risque et potentiel de gain\n",
    "\n",
    "## 📊 Stratégies\n",
    "- **SAFE**: Favoris solides, faible variance\n",
    "- **MID**: Valeur cachée, rendement intéressant  \n",
    "- **BOLD**: Longshots à gros jackpot"
   ]
  },
  {
   "cell_type": "code",
   "execution_count": null,
   "id": "e3c90f07",
   "metadata": {},
   "outputs": [],
   "source": [
    "# Imports et configuration\n",
    "import sys\n",
    "import os\n",
    "sys.path.append('/Volumes/Disque Dur/Dev/NHL 2025-2026')\n",
    "\n",
    "from src.scrapers.news_scraper import NHLNewsScraper\n",
    "from src.analyzers.value_analyzer import ValueAnalyzer\n",
    "from src.calculators.odds_calculator import OddsCalculator\n",
    "from src.calculators.portfolio_manager import PortfolioManager\n",
    "\n",
    "import pandas as pd\n",
    "from datetime import datetime\n",
    "\n",
    "print(\"🏒 Système d'analyse LNH chargé avec succès!\")\n",
    "print(f\"📅 Date d'analyse: {datetime.now().strftime('%d/%m/%Y %H:%M')}\")"
   ]
  },
  {
   "cell_type": "markdown",
   "id": "7d6011df",
   "metadata": {},
   "source": [
    "## 📰 Étape 1: Analyse des Nouvelles Récentes\n",
    "\n",
    "Surveillance des impacts potentiels sur les cotes:"
   ]
  },
  {
   "cell_type": "code",
   "execution_count": null,
   "id": "edf1cfd9",
   "metadata": {},
   "outputs": [],
   "source": [
    "# Collecte des nouvelles récentes\n",
    "news_scraper = NHLNewsScraper()\n",
    "recent_news = news_scraper.scrape_recent_news(hours_back=24)\n",
    "\n",
    "print(\"📰 NOUVELLES RÉCENTES AVEC IMPACT\")\n",
    "print(\"=\" * 40)\n",
    "\n",
    "for news in recent_news:\n",
    "    impact_emoji = \"🔴\" if news['impact'] == 'HIGH' else \"🟡\"\n",
    "    print(f\"{impact_emoji} [{news['source']}] {news['title']}\")\n",
    "    print(f\"   Équipes: {', '.join(news['teams_affected'])}\")\n",
    "    print(f\"   Impact: {news['impact']} | {news['summary']}\")\n",
    "    print()"
   ]
  },
  {
   "cell_type": "markdown",
   "id": "badbaba8",
   "metadata": {},
   "source": [
    "## 🔍 Étape 2: Identification des Opportunités\n",
    "\n",
    "Recherche des meilleures value bets:"
   ]
  },
  {
   "cell_type": "code",
   "execution_count": null,
   "id": "8a0dc658",
   "metadata": {},
   "outputs": [],
   "source": [
    "# Analyse des opportunités de value betting\n",
    "value_analyzer = ValueAnalyzer()\n",
    "opportunities = value_analyzer.find_value_bets()\n",
    "\n",
    "print(f\"🎯 {len(opportunities)} opportunités identifiées\")\n",
    "print()\n",
    "\n",
    "# Créer un DataFrame pour l'analyse\n",
    "df_opportunities = pd.DataFrame(opportunities)\n",
    "\n",
    "# Afficher le top 10\n",
    "print(\"🏆 TOP 10 des MEILLEURES OPPORTUNITÉS\")\n",
    "print(\"=\" * 50)\n",
    "\n",
    "top_10 = df_opportunities.head(10)\n",
    "for idx, row in top_10.iterrows():\n",
    "    value_pct = row['value'] * 100\n",
    "    roi_pct = (row['odds'] - 1) * 100\n",
    "    \n",
    "    print(f\"📊 {row['market']}: {row['selection']}\")\n",
    "    print(f\"   Cote: {row['odds']:.2f} | Value: {value_pct:.1f}% | ROI: {roi_pct:.0f}%\")\n",
    "    print(f\"   {row['confidence']} | {row['reasoning']}\")\n",
    "    print()"
   ]
  },
  {
   "cell_type": "markdown",
   "id": "6697a06e",
   "metadata": {},
   "source": [
    "## 💰 Étape 3: Optimisation du Portefeuille\n",
    "\n",
    "Génération des recommandations selon différents budgets:"
   ]
  },
  {
   "cell_type": "code",
   "execution_count": null,
   "id": "fab60dc6",
   "metadata": {},
   "outputs": [],
   "source": [
    "# Test avec différents budgets et stratégies\n",
    "budgets = [20, 40]  # 20$ ou 2×20$\n",
    "strategies = ['safe', 'mixed', 'bold']\n",
    "\n",
    "results = {}\n",
    "\n",
    "for budget in budgets:\n",
    "    results[budget] = {}\n",
    "    \n",
    "    for strategy in strategies:\n",
    "        portfolio_manager = PortfolioManager(budget=budget, strategy=strategy)\n",
    "        recommendations = portfolio_manager.generate_recommendations(opportunities)\n",
    "        \n",
    "        total_stake = sum(rec.stake for rec in recommendations)\n",
    "        total_expected = sum(rec.expected_return for rec in recommendations)\n",
    "        roi = (total_expected / total_stake * 100) if total_stake > 0 else 0\n",
    "        \n",
    "        results[budget][strategy] = {\n",
    "            'recommendations': recommendations,\n",
    "            'total_stake': total_stake,\n",
    "            'expected_return': total_expected,\n",
    "            'roi': roi\n",
    "        }\n",
    "\n",
    "print(\"📊 COMPARAISON DES STRATÉGIES\")\n",
    "print(\"=\" * 35)\n",
    "\n",
    "comparison_data = []\n",
    "for budget in budgets:\n",
    "    for strategy in strategies:\n",
    "        result = results[budget][strategy]\n",
    "        comparison_data.append({\n",
    "            'Budget': f\"{budget}$\",\n",
    "            'Stratégie': strategy.upper(),\n",
    "            'Misé': f\"{result['total_stake']:.2f}$\",\n",
    "            'Retour Attendu': f\"{result['expected_return']:.2f}$\",\n",
    "            'ROI': f\"{result['roi']:.1f}%\"\n",
    "        })\n",
    "\n",
    "df_comparison = pd.DataFrame(comparison_data)\n",
    "print(df_comparison.to_string(index=False))"
   ]
  },
  {
   "cell_type": "markdown",
   "id": "d1557d85",
   "metadata": {},
   "source": [
    "## 🎯 Recommandations Finales - Budget 20$\n",
    "\n",
    "Plan de mise optimisé:"
   ]
  },
  {
   "cell_type": "code",
   "execution_count": null,
   "id": "6d23dfd0",
   "metadata": {},
   "outputs": [],
   "source": [
    "# Recommandations détaillées pour budget 20$ - stratégie mixte\n",
    "budget = 20\n",
    "strategy = 'mixed'\n",
    "\n",
    "portfolio_manager = PortfolioManager(budget=budget, strategy=strategy)\n",
    "final_recommendations = portfolio_manager.generate_recommendations(opportunities)\n",
    "\n",
    "print(\"🎯 PLAN DE MISE RECOMMANDÉ (20$ - MIXTE)\")\n",
    "print(\"=\" * 45)\n",
    "\n",
    "portfolio_manager.display_recommendations(final_recommendations)\n",
    "\n",
    "# Analyse des gains potentiels\n",
    "print(\"\\n📈 ANALYSE DES SCÉNARIOS\")\n",
    "print(\"=\" * 25)\n",
    "\n",
    "total_stake = sum(rec.stake for rec in final_recommendations)\n",
    "potential_wins = []\n",
    "\n",
    "for rec in final_recommendations:\n",
    "    potential_win = rec.stake * rec.odds\n",
    "    potential_wins.append(potential_win)\n",
    "    print(f\"Si {rec.selection} gagne: +{potential_win:.2f}$ (mise {rec.stake:.2f}$)\")\n",
    "\n",
    "print(f\"\\n💰 Total misé: {total_stake:.2f}$\")\n",
    "print(f\"🏆 Gain max possible: {max(potential_wins):.2f}$\")\n",
    "print(f\"📊 Gain moyen attendu: {sum(rec.expected_return for rec in final_recommendations):.2f}$\")"
   ]
  },
  {
   "cell_type": "markdown",
   "id": "4d9ae0c6",
   "metadata": {},
   "source": [
    "## 🚀 Option Bonus: Scénario \"Jackpot\"\n",
    "\n",
    "Longshot à gros potentiel avec 5$ de mise:"
   ]
  },
  {
   "cell_type": "code",
   "execution_count": null,
   "id": "fe83edf7",
   "metadata": {},
   "outputs": [],
   "source": [
    "# Identifier le meilleur longshot\n",
    "longshots = [op for op in opportunities if op['odds'] > 15.0 and op['confidence'] == 'BOLD']\n",
    "\n",
    "if longshots:\n",
    "    best_longshot = max(longshots, key=lambda x: x['value'])\n",
    "    \n",
    "    print(\"🎰 OPTION JACKPOT RECOMMANDÉE\")\n",
    "    print(\"=\" * 30)\n",
    "    print(f\"🏒 {best_longshot['market']}: {best_longshot['selection']}\")\n",
    "    print(f\"📊 Cote: {best_longshot['odds']:.2f}\")\n",
    "    print(f\"💰 Mise suggérée: 5.00$\")\n",
    "    print(f\"🏆 Gain potentiel: {5.00 * best_longshot['odds']:.2f}$\")\n",
    "    print(f\"🎯 Value: {best_longshot['value']*100:.1f}%\")\n",
    "    print(f\"💡 Justification: {best_longshot['reasoning']}\")\n",
    "    \n",
    "    roi_jackpot = (best_longshot['odds'] - 1) * 100\n",
    "    print(f\"🚀 ROI si succès: {roi_jackpot:.0f}%\")\n",
    "else:\n",
    "    print(\"❌ Aucun longshot intéressant identifié\")"
   ]
  },
  {
   "cell_type": "markdown",
   "id": "a8a99c0e",
   "metadata": {},
   "source": [
    "## 📋 Résumé Exécutif\n",
    "\n",
    "### Recommandations Finales:"
   ]
  },
  {
   "cell_type": "code",
   "execution_count": null,
   "id": "aa724812",
   "metadata": {},
   "outputs": [],
   "source": [
    "# Résumé final\n",
    "print(\"🏒 RÉSUMÉ EXÉCUTIF - PARIS LNH 2025-26\")\n",
    "print(\"=\" * 45)\n",
    "print(f\"📅 Analyse du: {datetime.now().strftime('%d/%m/%Y')}\")\n",
    "print(f\"🎯 Opportunités analysées: {len(opportunities)}\")\n",
    "print(f\"📰 Nouvelles considérées: {len(recent_news)}\")\n",
    "print()\n",
    "\n",
    "print(\"💡 STRATÉGIE RECOMMANDÉE (Budget 20$):\")\n",
    "safe_count = len([r for r in final_recommendations if r.confidence == 'SAFE'])\n",
    "mid_count = len([r for r in final_recommendations if r.confidence == 'MID'])\n",
    "bold_count = len([r for r in final_recommendations if r.confidence == 'BOLD'])\n",
    "\n",
    "print(f\"   • {safe_count} paris SAFE (sécurité)\")\n",
    "print(f\"   • {mid_count} paris MID (équilibre)\")\n",
    "print(f\"   • {bold_count} paris BOLD (jackpot)\")\n",
    "print()\n",
    "\n",
    "total_expected = sum(rec.expected_return for rec in final_recommendations)\n",
    "total_staked = sum(rec.stake for rec in final_recommendations)\n",
    "\n",
    "print(f\"📊 PERFORMANCE ATTENDUE:\")\n",
    "print(f\"   • ROI moyen: {(total_expected/total_staked)*100:.1f}%\")\n",
    "print(f\"   • Valeur attendue: +{total_expected:.2f}$\")\n",
    "print(f\"   • Risque: Modéré (stratégie mixte)\")\n",
    "print()\n",
    "\n",
    "print(\"🏆 Bonne chance avec vos paris! 🍀\")"
   ]
  }
 ],
 "metadata": {
  "language_info": {
   "name": "python"
  }
 },
 "nbformat": 4,
 "nbformat_minor": 5
}
